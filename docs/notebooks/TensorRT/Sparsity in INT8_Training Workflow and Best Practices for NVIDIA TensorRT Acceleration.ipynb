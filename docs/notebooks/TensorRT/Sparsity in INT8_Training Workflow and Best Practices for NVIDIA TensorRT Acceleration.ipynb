{
 "cells": [
  {
   "cell_type": "markdown",
   "id": "76f22c27-71f5-41ab-a4e3-d0833cba9015",
   "metadata": {},
   "source": [
    "## Sparsity in INT8: Training Workflow and Best Practices for NVIDIA TensorRT Acceleration - NVIDIA BLOG, 2023\n",
    "\n",
    "La fase di addestramento di modelli di deep learning consiste nell'apprendere diverse matrici dense composte da pesi numerici rappresentati in virgola mobile cioè come valori floating point. Questo si traduce in una grande quantità di computazioni fra numeri in virgola mobile durante la fase di inferenza. La ricerca (Accelerating Sparse Deep Neural Networks - arXiv 2021) ha dimostrato che molte di queste computazioni possono essere ingnorate impostando a zero alcuni pesi con impatto minimo o trascurabile nell'accuratezza finale del modello.\n",
    "\n",
    "**articolo letto ma devo scrivere il resto**"
   ]
  },
  {
   "cell_type": "code",
   "execution_count": null,
   "id": "a49c5a54-78f7-4484-8ddc-682162589729",
   "metadata": {},
   "outputs": [],
   "source": []
  }
 ],
 "metadata": {
  "kernelspec": {
   "display_name": "Python 3 (ipykernel)",
   "language": "python",
   "name": "python3"
  },
  "language_info": {
   "codemirror_mode": {
    "name": "ipython",
    "version": 3
   },
   "file_extension": ".py",
   "mimetype": "text/x-python",
   "name": "python",
   "nbconvert_exporter": "python",
   "pygments_lexer": "ipython3",
   "version": "3.11.0"
  }
 },
 "nbformat": 4,
 "nbformat_minor": 5
}
