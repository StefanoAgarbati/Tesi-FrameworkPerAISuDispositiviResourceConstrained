{
 "cells": [
  {
   "cell_type": "markdown",
   "id": "42f779e4-c407-4751-96a7-9365b33f9afc",
   "metadata": {},
   "source": [
    "## Bibliografia"
   ]
  },
  {
   "cell_type": "markdown",
   "id": "4b405aae-3600-409e-9488-268606e843cc",
   "metadata": {},
   "source": [
    "1. Torsten Hoefler, Dan Alistarh, Tal Ben-Nun, Nikoli Dryden, Alexandra Peste. Sparsity in Deep Learning: Pruning and growth for efficient inference and training in neural networks. Journal of Machine Learning Research 23, 2021\n",
    "1. Namhoon Lee, Thalaiyasingam Ajanthan, Philip H. S. Torr. SNIP: SINGLE-SHOT NETWORKPRUNING BASED ON CONNECTION SENSITIVITY. ICLR, 2019\n",
    "1. Yanis Chaigneau, Nicolas Tirel. Pruning in neural networks. Improving the computation performances using sparse matrix multiplications\n",
    "   https://medium.com/@yanis.chaigneau/pruning-in-neural-networks-541af4f9a899\n",
    "1. Stuart Russell, Peter Norvig. Artificial Intelligence: a modern approach, 4th edition\n",
    "1. Aurélien Géron. Hands-On Machine Learning with Scikit-Learn, Keras, and TensorFlow, 2nd Edition\n",
    "1. Suraj Subramanian, Mark Saroufim, Jerry Zhang. Practical Quantization in PyTorch, 2022\n",
    "   https://pytorch.org/blog/quantization-in-practice/#references\n",
    "1. Jesse Cai, Daniel Haziza, Supriya Rao. Accelerating Neural Network Training With Semi Structured (2:4) Sparsity, 2024\n",
    "   https://pytorch.org/blog/accelerating-neural-network-training/\n",
    "1. Wikipedia\n",
    "   https://it.wikipedia.org\n",
    "1. PyTorch Docs\n",
    "   https://docs.pytorch.org/docs/stable/index.html\n",
    "1. TensorFlow guide\n",
    "   https://www.tensorflow.org/\n",
    "1. Gian Marco Iodice, Wolfgang Furtner. Edge AI - An Industry View. IEEE, 2025\n",
    "1. Jeff Pool, Abhishek Sawarkar, Jay Rodge. Accelerating Inference with Sparsity Using the NVIDIA Ampere Architecture and NVIDIA TensorRT. NVIDIA     Technical Blog, 2021\n",
    "1. Gwena Cunha Sergio, Sagar Shelke, Jinkyu Koo, Le An, Josh Park. Sparsity in INT8: Training Workflow and Best Practices for NVIDIA TensorRT Acceleration. NVIDIA Technical Blog, 2023\n",
    "1. ExecuTorch Docs\n",
    "   https://docs.pytorch.org/executorch/stable/\n",
    "1. LiteRT Docs\n",
    "   https://ai.google.dev/edge/litert?hl=it\n"
   ]
  },
  {
   "cell_type": "markdown",
   "id": "121087fa-d6b6-449c-a038-3def2570c830",
   "metadata": {},
   "source": []
  }
 ],
 "metadata": {
  "kernelspec": {
   "display_name": "Python 3 (ipykernel)",
   "language": "python",
   "name": "python3"
  },
  "language_info": {
   "codemirror_mode": {
    "name": "ipython",
    "version": 3
   },
   "file_extension": ".py",
   "mimetype": "text/x-python",
   "name": "python",
   "nbconvert_exporter": "python",
   "pygments_lexer": "ipython3",
   "version": "3.11.0"
  }
 },
 "nbformat": 4,
 "nbformat_minor": 5
}
