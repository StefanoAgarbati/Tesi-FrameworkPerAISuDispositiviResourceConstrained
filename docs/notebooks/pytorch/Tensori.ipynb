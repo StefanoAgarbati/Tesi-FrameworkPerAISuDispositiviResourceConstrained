{
 "cells": [
  {
   "cell_type": "markdown",
   "id": "f5afb6dc-e0b6-4359-bf48-6cca3154d3d1",
   "metadata": {},
   "source": [
    "## Tensori\n",
    "\n",
    "Un tensore è una struttura dati particolare che generalizza quelle di array e matrici (array di array). Potremmo definirlo come un array multidimensionale. Ad esempio una immagine possiamo rappresentarla usando un tensore di ordine 3 perché abbiamo bisogno di 3 matrici ciascuna contenente il valore R, G, B di ciascun pixel. Possiamo immaginarlo come un insieme di matrici impilate una sopra l'altra, un vettore di matrici.\n",
    "Quindi un tensore di ordine 4 possiamo vederlo come un vettore di tensori di ordine 3 (un vettore di matrici cubiche). L'ordine del tensore ci dice quanti parametri ci servono per identificare, localizzare un suo singolo elemento. Per un vettore abbiamo bisogno di un solo indice e dunque sarà un tensore di ordine 1 mentre per le matrici, avendo bisogno di due paramtri per localizzare un suo valore, esse saranno tensori di ordine 2. Per un tensore di ordine $k$ avremo bisogno di k parametri.\n",
    "\n",
    "I tensori vengono utilizzati per rappresentare in forma numerica gli input, gli output e i parametri di un modello. I tensori rappresentano una forma adatta all'esecuzione su GPU ed altri ecceleratori hardware e per l'operazione di derivazione automatizzata.\n",
    "Esistono diversi modi per creare un tensore in pytorch ad esempio direttamente a patire dai dati (un array multi-dimensionale) oppure da una array numpy oppure da un tensore esistente.\n",
    "Ogni tensore pytorch è un oggetto della classe Tensor che descrive gli attributi di un tensore come shape (dimensioni), ed una serie di metodi che rappresentano operazioni eseguibili su di essi. Ogni tensore viene, per default, associato alla CPU ovvero tutte le operazioni su tensori vengono eseguite sulla CPU. E' possibile spostare l'esecuzione altrove, come ad esempio su di un acceleratore hardware (es. cuda), utilizzanto il metodo .to() che richiede l'oggetto Device rappresentativo dell'acceleratore.\n",
    "E' possibile concatenare (joining) insieme una sequenza di tensori (due o più tensori) lungo una specificata dimensione utilizzando il metodo .cat()"
   ]
  },
  {
   "cell_type": "code",
   "execution_count": 3,
   "id": "4562ba19-746f-496e-9ab0-140d2fc914bb",
   "metadata": {},
   "outputs": [],
   "source": [
    "# alcuni esempi\n",
    "import torch"
   ]
  },
  {
   "cell_type": "code",
   "execution_count": 13,
   "id": "ed84187b-8eb5-43b4-9c9e-f96cafa8b64a",
   "metadata": {},
   "outputs": [
    {
     "name": "stdout",
     "output_type": "stream",
     "text": [
      "tensor([1, 2, 3, 4])\n",
      "Tensor0 size -> torch.Size([4])\n",
      "\n",
      "\n",
      "tensor([[ 1,  2,  3,  4],\n",
      "        [ 5,  6,  7,  8],\n",
      "        [ 9, 10, 11, 12],\n",
      "        [13, 14, 15, 16]])\n",
      "Tensor1 size -> torch.Size([4, 4])\n"
     ]
    }
   ],
   "source": [
    "someData0 = [1, 2, 3, 4]\n",
    "someData1 = [[1,2,3,4],\n",
    "             [5,6,7,8],\n",
    "             [9,10,11,12],\n",
    "             [13,14,15,16]\n",
    "            ]\n",
    "#uso di una funzione factory al posto del costruttore della classe tensor come consigliato\n",
    "aTensor0 = torch.tensor(someData0)\n",
    "aTensor1 = torch.tensor(someData1)\n",
    "\n",
    "print(aTensor0)\n",
    "print(f\"Tensor0 size -> {aTensor0.size()}\")\n",
    "print(\"\\n\")\n",
    "print(aTensor1)\n",
    "print(f\"Tensor1 size -> {aTensor1.size()}\")"
   ]
  },
  {
   "cell_type": "code",
   "execution_count": 14,
   "id": "99dd3d1b-e9a8-4605-8ae2-e3875fceed06",
   "metadata": {},
   "outputs": [
    {
     "name": "stdout",
     "output_type": "stream",
     "text": [
      "tensor([ 90, 100, 110, 120])\n"
     ]
    }
   ],
   "source": [
    "#moltiplicazione righe per colonne fra tensori\n",
    "res = aTensor0.matmul(aTensor1)\n",
    "print(res)"
   ]
  },
  {
   "cell_type": "code",
   "execution_count": 20,
   "id": "13d35c12-eca1-4460-bc8f-41f5ae2c9903",
   "metadata": {},
   "outputs": [
    {
     "data": {
      "text/plain": [
       "tensor([ 2,  6, 12, 20])"
      ]
     },
     "execution_count": 20,
     "metadata": {},
     "output_type": "execute_result"
    }
   ],
   "source": [
    "# moltiplicazione elemento per elemento\n",
    "aTensor0.multiply(torch.tensor([2, 3, 4, 5]))"
   ]
  },
  {
   "cell_type": "code",
   "execution_count": 29,
   "id": "53629293-8d95-49e8-92c1-ed81322e7518",
   "metadata": {},
   "outputs": [
    {
     "name": "stdout",
     "output_type": "stream",
     "text": [
      "tensor([[ 1,  2,  3,  4],\n",
      "        [ 5,  6,  7,  8],\n",
      "        [ 9, 10, 11, 12],\n",
      "        [13, 14, 15, 16],\n",
      "        [ 7,  1, 82, 12],\n",
      "        [55, 13, 17, 43],\n",
      "        [44, 54, 64, 49],\n",
      "        [17, 15, 17, 25]])\n",
      "tensor([[ 1,  2,  3,  4,  7,  1, 82, 12],\n",
      "        [ 5,  6,  7,  8, 55, 13, 17, 43],\n",
      "        [ 9, 10, 11, 12, 44, 54, 64, 49],\n",
      "        [13, 14, 15, 16, 17, 15, 17, 25]])\n"
     ]
    }
   ],
   "source": [
    "# join di due tensori lungo due dimensioni distinte (per colonne e per righe)\n",
    "t3 = torch.randint(100, (4, 4))\n",
    "print(torch.cat([aTensor1, t3], dim=0))\n",
    "print(torch.cat([aTensor1, t3], dim=1))"
   ]
  },
  {
   "cell_type": "code",
   "execution_count": null,
   "id": "c29711c2-be99-48e0-b6f5-eadf965c9ac3",
   "metadata": {},
   "outputs": [],
   "source": []
  }
 ],
 "metadata": {
  "kernelspec": {
   "display_name": "Python 3 (ipykernel)",
   "language": "python",
   "name": "python3"
  },
  "language_info": {
   "codemirror_mode": {
    "name": "ipython",
    "version": 3
   },
   "file_extension": ".py",
   "mimetype": "text/x-python",
   "name": "python",
   "nbconvert_exporter": "python",
   "pygments_lexer": "ipython3",
   "version": "3.11.0"
  }
 },
 "nbformat": 4,
 "nbformat_minor": 5
}
