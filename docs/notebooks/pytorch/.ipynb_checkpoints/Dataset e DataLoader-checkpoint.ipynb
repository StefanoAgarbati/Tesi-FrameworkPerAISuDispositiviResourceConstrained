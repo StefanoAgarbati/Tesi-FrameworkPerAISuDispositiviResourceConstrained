{
 "cells": [
  {
   "cell_type": "markdown",
   "id": "38ca0df9-f265-462b-89b6-67bcbcb6c8fb",
   "metadata": {},
   "source": [
    "## Dataset e DataLoader\n",
    "\n",
    "PyTorch mette a disposizione le classi Dataset e DataLoader per la gestione dei dati. Dataset modella l'insieme dei campioni e delle etichette mentre DataLoader modella un wrapper iterabile di un dataset in modo da consentire il recupero e la manipolazione dei dati presenti nel dataset.\n",
    "E' possibile iterare sugli elementi di un Dataset usando indici cioè trattando l'oggetto Dataset come se fosse una lista. L'oggetto restituisce, per ogni indice, una tupla del tipo (dati, etichetta).\n",
    "L'addestramento di un modello avviene per batches in cui viene suddiviso il dataset di training iniziale e generalmente,per ridurre il fenomeno dell'overfitting, i dati vengono rimescolati ad ogni epoca. PyTorch permette questo facilmente attraverso il parametro booleano 'shuffle' del costruttore dell'oggetto DataLoader, il quale consente di impostare anche la dimensione del batch di dati"
   ]
  }
 ],
 "metadata": {
  "kernelspec": {
   "display_name": "Python 3 (ipykernel)",
   "language": "python",
   "name": "python3"
  },
  "language_info": {
   "codemirror_mode": {
    "name": "ipython",
    "version": 3
   },
   "file_extension": ".py",
   "mimetype": "text/x-python",
   "name": "python",
   "nbconvert_exporter": "python",
   "pygments_lexer": "ipython3",
   "version": "3.11.0"
  }
 },
 "nbformat": 4,
 "nbformat_minor": 5
}
