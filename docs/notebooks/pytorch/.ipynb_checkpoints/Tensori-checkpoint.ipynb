{
 "cells": [
  {
   "cell_type": "markdown",
   "id": "f5afb6dc-e0b6-4359-bf48-6cca3154d3d1",
   "metadata": {},
   "source": [
    "## Tensori\n",
    "\n",
    "Un tensore è una struttura dati particolare che generalizza quelle di array e matrici (array di array). Potremmo definirlo come un array multidimensionale. Ad esempio una immagine possiamo rappresentarla usando un tensore di ordine 3 perché abbiamo bisogno di 3 matrici ciascuna contenente il valore R, G, B di ciascun pixel. Possiamo immaginarlo come un insieme di matrici impilate una sopra l'altra, un vettore di matrici.\n",
    "Quindi un tensore di ordine 4 possiamo vederlo come un vettore di tensori di ordine 3 (un vettore di matrici cubiche). L'ordine del tensore ci dice quanti parametri ci servono per identificare, localizzare un suo singolo elemento. Per un vettore abbiamo bisogno di un solo indice e dunque sarà un tensore di ordine 1 mentre per le matrici, avendo bisogno di due paramtri per localizzare un suo valore, esse saranno tensori di ordine 2. Per un tensore di ordine $k$ avremo bisogno di k parametri."
   ]
  }
 ],
 "metadata": {
  "kernelspec": {
   "display_name": "Python 3 (ipykernel)",
   "language": "python",
   "name": "python3"
  },
  "language_info": {
   "codemirror_mode": {
    "name": "ipython",
    "version": 3
   },
   "file_extension": ".py",
   "mimetype": "text/x-python",
   "name": "python",
   "nbconvert_exporter": "python",
   "pygments_lexer": "ipython3",
   "version": "3.11.0"
  }
 },
 "nbformat": 4,
 "nbformat_minor": 5
}
