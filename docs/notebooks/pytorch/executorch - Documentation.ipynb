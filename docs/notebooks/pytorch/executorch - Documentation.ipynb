{
 "cells": [
  {
   "cell_type": "markdown",
   "id": "467073b5-9571-4539-bffa-103c9d6259ee",
   "metadata": {},
   "source": [
    "## ExecuTorch - Documentazione ufficiale\n",
    "\n",
    "+ *introduzione letta ma non trascritta*\n",
    "\n",
    "+ **Architettura e Componenti**\n",
    "    + lo scenario è quello di deployment di una applicazioni di IA su di un dispositivo edge, con risorse limitate\n",
    "        + requisiti di alimentazione critici (probabile alimentazione  a batteria)\n",
    "        + moltissimi harware diversi ed in continua evoluzione\n",
    "        + richieste elaborazioni in tempo reale (cioè entro un tempo massimo - time bound)\n",
    "    + serve un'architettura modulare ed estensibile (questo vale in generale)\n",
    "        + necessità di eseguire applicazioni di IA su diverse piattaforme\n",
    "            + in maniera platform-independent\n",
    "                + chi sviluppa non deve pensare ai dettagli relativi alla piattaforma\n",
    "    + ExecuTorch fornisce un runtime leggero, performante e portabile\n",
    "        + può essere eseguito su tantissimi dispositivi e piattaforme come ios, android, linux, microcontrollori\n",
    "        + consente di portare modelli PyToch su dispositivi edge (e dunque IA on-device con risorse limitate)\n",
    "    + per il deployment di un modello PyTorch su di un dispositivo ExecuTorch prevede 3 fasi\n",
    "        + preparazione del programma\n",
    "        + preparazione del runtime\n",
    "        + esecuzione del programma\n",
    "        + **preparazione del programma:**\n",
    "            + significa esportare, trasformare e compilare un modello\n",
    "                + esportare significa modificare la rappresentazione del modello da un formato ad un altro formato intermedio\n",
    "                    + Export Intermediate Format (Export IR)\n",
    "                        + rappresenta il modello come grafo computazionale dove i nodi rappresentano operatori (addizioni, moltiplicazioni, convoluzioni)    \n",
    "            + si sfruttano il compilatore e le funzionalità di export di PyTorch per preparare un programma PyTorch alla sua esecuzione su di un dispositivo\n",
    "\n",
    "La preparazione del programma (export, trasformazione, compilazione) è eseguita prima della sua esecuzione su runtime ExecuTorch (cioè Ahead Of Time - AOT). Per non sovraccaricare la fase di esecuzione ed il runtime, si cerca di eseguire più lavoro possibile sul modello in modalità AOT, cioè in anticipo rispetto alla sua esecuzione.\n",
    "Si parte da un modello espresso utilizzando PyTorch. Per poter deployare un modello PyTorch su di un dispositivo è necessario ottenerne una sua rappresentazione sotto forma di grafo. Si tratta di una rappresentazione intermedia che poi potrà essere sottoposta a compilazione e quindi eseguita su un dispositivo target. La funzione torch.export() produce una rappresentazione in formato EXIR (Export Intermediate Format). Le operazioni vengono espresse utilizzando lo standard Core ATen Op Set che rappresenta una lista standardizzata di operazioni, quelle più comunemente coinvolte nei calcoli eseguiti all'interno di reti neurali. Il grafo prodotto dal processo di esportazione non dipende dall'hardware su cui il modello sarà eseguito. Il passo successivo è quello di compilazione. La compilazione esegue una nuova trasformazione come del resto fanno tutti i compilatori, sono trasformatori di rappresentazioni. Tutto ciò che fa è trasformare la rappresentazione intermedia del modello in una forma eseguibile dal runtime ExecuTorch. La fase successiva alla compilazione è proprio quella dell'esecuzione del modello su di un runtime. Il Runtime ExecuTroch è scritto in C++, molto efficiente, con dipendenze minimali per favorire la sua portabilità e molto piccolo. Tutte le operazioni e le ottimizzazioni da eseguire sul modello avvengono, come si dice, ahead of time. Quindi alla fine il modello è già ben preparato e il runtime deve solo eseguirlo linkando le librerie platform-specific. Per questo le dimensioni del runtime sono ridotte ai minimi termini."
   ]
  },
  {
   "cell_type": "code",
   "execution_count": null,
   "id": "f77dda27-734e-4357-9151-b43667a2de0e",
   "metadata": {},
   "outputs": [],
   "source": []
  }
 ],
 "metadata": {
  "kernelspec": {
   "display_name": "Python 3 (ipykernel)",
   "language": "python",
   "name": "python3"
  },
  "language_info": {
   "codemirror_mode": {
    "name": "ipython",
    "version": 3
   },
   "file_extension": ".py",
   "mimetype": "text/x-python",
   "name": "python",
   "nbconvert_exporter": "python",
   "pygments_lexer": "ipython3",
   "version": "3.11.0"
  }
 },
 "nbformat": 4,
 "nbformat_minor": 5
}
